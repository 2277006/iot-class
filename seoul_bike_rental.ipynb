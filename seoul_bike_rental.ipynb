{
  "nbformat": 4,
  "nbformat_minor": 0,
  "metadata": {
    "colab": {
      "provenance": [],
      "authorship_tag": "ABX9TyP/yUgP32CgjIV0Fvsr2u2J",
      "include_colab_link": true
    },
    "kernelspec": {
      "name": "python3",
      "display_name": "Python 3"
    },
    "language_info": {
      "name": "python"
    }
  },
  "cells": [
    {
      "cell_type": "markdown",
      "metadata": {
        "id": "view-in-github",
        "colab_type": "text"
      },
      "source": [
        "<a href=\"https://colab.research.google.com/github/2277006/iot-class/blob/main/seoul_bike_rental.ipynb\" target=\"_parent\"><img src=\"https://colab.research.google.com/assets/colab-badge.svg\" alt=\"Open In Colab\"/></a>"
      ]
    },
    {
      "cell_type": "code",
      "source": [
        "print('학번이름 : 2277006 김솔빈')"
      ],
      "metadata": {
        "colab": {
          "base_uri": "https://localhost:8080/"
        },
        "id": "KKY_5xgxEtY_",
        "outputId": "19b438bd-275f-4c5d-bc13-cb35b53a9319"
      },
      "execution_count": 43,
      "outputs": [
        {
          "output_type": "stream",
          "name": "stdout",
          "text": [
            "학번이름 : 2277006 김솔빈\n"
          ]
        }
      ]
    },
    {
      "cell_type": "code",
      "source": [
        "import requests\n",
        "r = requests.get('http://openapi.seoul.go.kr:8088/5a526f6971736f6c36335556576668/json/bikeList/1/15/ ')\n",
        "print(r.json())\n",
        "j=r.json()"
      ],
      "metadata": {
        "colab": {
          "base_uri": "https://localhost:8080/"
        },
        "id": "PNiJE4TI93T-",
        "outputId": "9c587a0f-bfd6-404d-95c3-d0dba8306ee7"
      },
      "execution_count": 36,
      "outputs": [
        {
          "output_type": "stream",
          "name": "stdout",
          "text": [
            "{'rentBikeStatus': {'list_total_count': 15, 'RESULT': {'CODE': 'INFO-000', 'MESSAGE': '정상 처리되었습니다.'}, 'row': [{'rackTotCnt': '15', 'stationName': '102. 망원역 1번출구 앞', 'parkingBikeTotCnt': '19', 'shared': '127', 'stationLatitude': '37.55564880', 'stationLongitude': '126.91062927', 'stationId': 'ST-4'}, {'rackTotCnt': '14', 'stationName': '103. 망원역 2번출구 앞', 'parkingBikeTotCnt': '20', 'shared': '143', 'stationLatitude': '37.55495071', 'stationLongitude': '126.91083527', 'stationId': 'ST-5'}, {'rackTotCnt': '13', 'stationName': '104. 합정역 1번출구 앞', 'parkingBikeTotCnt': '17', 'shared': '131', 'stationLatitude': '37.55073929', 'stationLongitude': '126.91508484', 'stationId': 'ST-6'}, {'rackTotCnt': '5', 'stationName': '105. 합정역 5번출구 앞', 'parkingBikeTotCnt': '14', 'shared': '280', 'stationLatitude': '37.55000687', 'stationLongitude': '126.91482544', 'stationId': 'ST-7'}, {'rackTotCnt': '12', 'stationName': '106. 합정역 7번출구 앞', 'parkingBikeTotCnt': '24', 'shared': '200', 'stationLatitude': '37.54864502', 'stationLongitude': '126.91282654', 'stationId': 'ST-8'}, {'rackTotCnt': '5', 'stationName': '107. 신한은행 서교동지점', 'parkingBikeTotCnt': '7', 'shared': '140', 'stationLatitude': '37.55751038', 'stationLongitude': '126.91850281', 'stationId': 'ST-9'}, {'rackTotCnt': '10', 'stationName': '108. 서교동 사거리', 'parkingBikeTotCnt': '13', 'shared': '130', 'stationLatitude': '37.55274582', 'stationLongitude': '126.91861725', 'stationId': 'ST-10'}, {'rackTotCnt': '10', 'stationName': '111. 상수역 2번출구 앞', 'parkingBikeTotCnt': '27', 'shared': '270', 'stationLatitude': '37.54787064', 'stationLongitude': '126.92353058', 'stationId': 'ST-15'}, {'rackTotCnt': '10', 'stationName': '112. 극동방송국 앞', 'parkingBikeTotCnt': '22', 'shared': '220', 'stationLatitude': '37.54920197', 'stationLongitude': '126.92320251', 'stationId': 'ST-16'}, {'rackTotCnt': '25', 'stationName': '113. 홍대입구역 2번출구 앞', 'parkingBikeTotCnt': '12', 'shared': '48', 'stationLatitude': '37.55743790', 'stationLongitude': '126.92382050', 'stationId': 'ST-18'}, {'rackTotCnt': '15', 'stationName': '114. 홍대입구역 8번출구 앞', 'parkingBikeTotCnt': '5', 'shared': '33', 'stationLatitude': '37.55706024', 'stationLongitude': '126.92442322', 'stationId': 'ST-20'}, {'rackTotCnt': '15', 'stationName': '115. 마스타 빌딩 앞', 'parkingBikeTotCnt': '16', 'shared': '107', 'stationLatitude': '37.55893326', 'stationLongitude': '126.92711639', 'stationId': 'ST-12'}, {'rackTotCnt': '23', 'stationName': '117. 홍은사거리', 'parkingBikeTotCnt': '18', 'shared': '78', 'stationLatitude': '37.59115982', 'stationLongitude': '126.94132996', 'stationId': 'ST-17'}, {'rackTotCnt': '9', 'stationName': '118. 광흥창역 2번출구 앞', 'parkingBikeTotCnt': '14', 'shared': '156', 'stationLatitude': '37.54773331', 'stationLongitude': '126.93176270', 'stationId': 'ST-19'}, {'rackTotCnt': '10', 'stationName': '119. 서강나루 공원', 'parkingBikeTotCnt': '37', 'shared': '370', 'stationLatitude': '37.54520798', 'stationLongitude': '126.93146515', 'stationId': 'ST-21'}]}}\n"
          ]
        }
      ]
    },
    {
      "cell_type": "code",
      "source": [
        "j['rentBikeStatus']['row']"
      ],
      "metadata": {
        "colab": {
          "base_uri": "https://localhost:8080/"
        },
        "id": "PwLWvS52BUMo",
        "outputId": "83047c78-4492-4bc6-dab4-e2edb575b45c"
      },
      "execution_count": 37,
      "outputs": [
        {
          "output_type": "execute_result",
          "data": {
            "text/plain": [
              "[{'rackTotCnt': '15',\n",
              "  'stationName': '102. 망원역 1번출구 앞',\n",
              "  'parkingBikeTotCnt': '19',\n",
              "  'shared': '127',\n",
              "  'stationLatitude': '37.55564880',\n",
              "  'stationLongitude': '126.91062927',\n",
              "  'stationId': 'ST-4'},\n",
              " {'rackTotCnt': '14',\n",
              "  'stationName': '103. 망원역 2번출구 앞',\n",
              "  'parkingBikeTotCnt': '20',\n",
              "  'shared': '143',\n",
              "  'stationLatitude': '37.55495071',\n",
              "  'stationLongitude': '126.91083527',\n",
              "  'stationId': 'ST-5'},\n",
              " {'rackTotCnt': '13',\n",
              "  'stationName': '104. 합정역 1번출구 앞',\n",
              "  'parkingBikeTotCnt': '17',\n",
              "  'shared': '131',\n",
              "  'stationLatitude': '37.55073929',\n",
              "  'stationLongitude': '126.91508484',\n",
              "  'stationId': 'ST-6'},\n",
              " {'rackTotCnt': '5',\n",
              "  'stationName': '105. 합정역 5번출구 앞',\n",
              "  'parkingBikeTotCnt': '14',\n",
              "  'shared': '280',\n",
              "  'stationLatitude': '37.55000687',\n",
              "  'stationLongitude': '126.91482544',\n",
              "  'stationId': 'ST-7'},\n",
              " {'rackTotCnt': '12',\n",
              "  'stationName': '106. 합정역 7번출구 앞',\n",
              "  'parkingBikeTotCnt': '24',\n",
              "  'shared': '200',\n",
              "  'stationLatitude': '37.54864502',\n",
              "  'stationLongitude': '126.91282654',\n",
              "  'stationId': 'ST-8'},\n",
              " {'rackTotCnt': '5',\n",
              "  'stationName': '107. 신한은행 서교동지점',\n",
              "  'parkingBikeTotCnt': '7',\n",
              "  'shared': '140',\n",
              "  'stationLatitude': '37.55751038',\n",
              "  'stationLongitude': '126.91850281',\n",
              "  'stationId': 'ST-9'},\n",
              " {'rackTotCnt': '10',\n",
              "  'stationName': '108. 서교동 사거리',\n",
              "  'parkingBikeTotCnt': '13',\n",
              "  'shared': '130',\n",
              "  'stationLatitude': '37.55274582',\n",
              "  'stationLongitude': '126.91861725',\n",
              "  'stationId': 'ST-10'},\n",
              " {'rackTotCnt': '10',\n",
              "  'stationName': '111. 상수역 2번출구 앞',\n",
              "  'parkingBikeTotCnt': '27',\n",
              "  'shared': '270',\n",
              "  'stationLatitude': '37.54787064',\n",
              "  'stationLongitude': '126.92353058',\n",
              "  'stationId': 'ST-15'},\n",
              " {'rackTotCnt': '10',\n",
              "  'stationName': '112. 극동방송국 앞',\n",
              "  'parkingBikeTotCnt': '22',\n",
              "  'shared': '220',\n",
              "  'stationLatitude': '37.54920197',\n",
              "  'stationLongitude': '126.92320251',\n",
              "  'stationId': 'ST-16'},\n",
              " {'rackTotCnt': '25',\n",
              "  'stationName': '113. 홍대입구역 2번출구 앞',\n",
              "  'parkingBikeTotCnt': '12',\n",
              "  'shared': '48',\n",
              "  'stationLatitude': '37.55743790',\n",
              "  'stationLongitude': '126.92382050',\n",
              "  'stationId': 'ST-18'},\n",
              " {'rackTotCnt': '15',\n",
              "  'stationName': '114. 홍대입구역 8번출구 앞',\n",
              "  'parkingBikeTotCnt': '5',\n",
              "  'shared': '33',\n",
              "  'stationLatitude': '37.55706024',\n",
              "  'stationLongitude': '126.92442322',\n",
              "  'stationId': 'ST-20'},\n",
              " {'rackTotCnt': '15',\n",
              "  'stationName': '115. 마스타 빌딩 앞',\n",
              "  'parkingBikeTotCnt': '16',\n",
              "  'shared': '107',\n",
              "  'stationLatitude': '37.55893326',\n",
              "  'stationLongitude': '126.92711639',\n",
              "  'stationId': 'ST-12'},\n",
              " {'rackTotCnt': '23',\n",
              "  'stationName': '117. 홍은사거리',\n",
              "  'parkingBikeTotCnt': '18',\n",
              "  'shared': '78',\n",
              "  'stationLatitude': '37.59115982',\n",
              "  'stationLongitude': '126.94132996',\n",
              "  'stationId': 'ST-17'},\n",
              " {'rackTotCnt': '9',\n",
              "  'stationName': '118. 광흥창역 2번출구 앞',\n",
              "  'parkingBikeTotCnt': '14',\n",
              "  'shared': '156',\n",
              "  'stationLatitude': '37.54773331',\n",
              "  'stationLongitude': '126.93176270',\n",
              "  'stationId': 'ST-19'},\n",
              " {'rackTotCnt': '10',\n",
              "  'stationName': '119. 서강나루 공원',\n",
              "  'parkingBikeTotCnt': '37',\n",
              "  'shared': '370',\n",
              "  'stationLatitude': '37.54520798',\n",
              "  'stationLongitude': '126.93146515',\n",
              "  'stationId': 'ST-21'}]"
            ]
          },
          "metadata": {},
          "execution_count": 37
        }
      ]
    },
    {
      "cell_type": "code",
      "source": [
        "for i in range(-1, -6, -1):\n",
        "  print('대여소명:', j['rentBikeStatus']['row'][i]['stationName'], '/ 대여횟수:', j['rentBikeStatus']['row'][i]['shared'])"
      ],
      "metadata": {
        "colab": {
          "base_uri": "https://localhost:8080/"
        },
        "id": "_4rZKCYI-t2Z",
        "outputId": "d62fa556-6fac-499d-bc72-0af7cd9ea315"
      },
      "execution_count": 41,
      "outputs": [
        {
          "output_type": "stream",
          "name": "stdout",
          "text": [
            "대여소명: 119. 서강나루 공원 / 대여횟수: 370\n",
            "대여소명: 118. 광흥창역 2번출구 앞 / 대여횟수: 156\n",
            "대여소명: 117. 홍은사거리 / 대여횟수: 78\n",
            "대여소명: 115. 마스타 빌딩 앞 / 대여횟수: 107\n",
            "대여소명: 114. 홍대입구역 8번출구 앞 / 대여횟수: 33\n"
          ]
        }
      ]
    },
    {
      "cell_type": "code",
      "source": [],
      "metadata": {
        "id": "745f2XO1_vbB"
      },
      "execution_count": 33,
      "outputs": []
    }
  ]
}