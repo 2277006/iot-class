{
  "nbformat": 4,
  "nbformat_minor": 0,
  "metadata": {
    "colab": {
      "provenance": [],
      "authorship_tag": "ABX9TyMyuUdI20mCMwRqEYG91KOq",
      "include_colab_link": true
    },
    "kernelspec": {
      "name": "python3",
      "display_name": "Python 3"
    },
    "language_info": {
      "name": "python"
    }
  },
  "cells": [
    {
      "cell_type": "markdown",
      "metadata": {
        "id": "view-in-github",
        "colab_type": "text"
      },
      "source": [
        "<a href=\"https://colab.research.google.com/github/2277006/iot-class/blob/main/read_bus.ipynb\" target=\"_parent\"><img src=\"https://colab.research.google.com/assets/colab-badge.svg\" alt=\"Open In Colab\"/></a>"
      ]
    },
    {
      "cell_type": "code",
      "source": [
        "import requests\n",
        "url='http://apis.data.go.kr/6410000/buslocationservice/getBusLocationList?serviceKey=1234567890&routeId=232000007'\n",
        "r = requests.get(url)\n",
        "print(r.text)"
      ],
      "metadata": {
        "colab": {
          "base_uri": "https://localhost:8080/"
        },
        "id": "Atu6q2dkNmfi",
        "outputId": "252aa733-6d52-47a9-9162-a369c08cf059"
      },
      "execution_count": null,
      "outputs": [
        {
          "output_type": "stream",
          "name": "stdout",
          "text": [
            "<?xml version=\"1.0\" encoding=\"UTF-8\" standalone=\"yes\"?><response><comMsgHeader/><msgHeader><queryTime>2024-03-14 13:35:24.828</queryTime><resultCode>0</resultCode><resultMessage>정상적으로 처리되었습니다.</resultMessage></msgHeader><msgBody><busLocationList><endBus>0</endBus><lowPlate>0</lowPlate><plateNo>경기79바1628</plateNo><plateType>3</plateType><remainSeatCnt>36</remainSeatCnt><routeId>232000007</routeId><stationId>232000743</stationId><stationSeq>23</stationSeq></busLocationList><busLocationList><endBus>0</endBus><lowPlate>0</lowPlate><plateNo>경기79바1626</plateNo><plateType>3</plateType><remainSeatCnt>37</remainSeatCnt><routeId>232000007</routeId><stationId>115000003</stationId><stationSeq>47</stationSeq></busLocationList><busLocationList><endBus>0</endBus><lowPlate>0</lowPlate><plateNo>경기79바1630</plateNo><plateType>3</plateType><remainSeatCnt>40</remainSeatCnt><routeId>232000007</routeId><stationId>232000271</stationId><stationSeq>4</stationSeq></busLocationList><busLocationList><endBus>0</endBus><lowPlate>0</lowPlate><plateNo>경기79바1627</plateNo><plateType>3</plateType><remainSeatCnt>40</remainSeatCnt><routeId>232000007</routeId><stationId>118000040</stationId><stationSeq>39</stationSeq></busLocationList><busLocationList><endBus>0</endBus><lowPlate>0</lowPlate><plateNo>경기79바1659</plateNo><plateType>3</plateType><remainSeatCnt>37</remainSeatCnt><routeId>232000007</routeId><stationId>232000541</stationId><stationSeq>65</stationSeq></busLocationList></msgBody></response>\n"
          ]
        }
      ]
    },
    {
      "cell_type": "code",
      "source": [
        "from bs4 import BeautifulSoup\n",
        "soup = BeautifulSoup(r.text, features=\"xml\")"
      ],
      "metadata": {
        "id": "cyfpcO9vAfnZ"
      },
      "execution_count": null,
      "outputs": []
    },
    {
      "cell_type": "code",
      "source": [
        "soup.find_all('stationId')"
      ],
      "metadata": {
        "colab": {
          "base_uri": "https://localhost:8080/"
        },
        "id": "g9g1SeEkApRG",
        "outputId": "50656113-8a7a-48f3-b285-b966470e6b73"
      },
      "execution_count": null,
      "outputs": [
        {
          "output_type": "execute_result",
          "data": {
            "text/plain": [
              "[<stationId>232000743</stationId>,\n",
              " <stationId>115000003</stationId>,\n",
              " <stationId>232000271</stationId>,\n",
              " <stationId>118000040</stationId>,\n",
              " <stationId>232000541</stationId>]"
            ]
          },
          "metadata": {},
          "execution_count": 33
        }
      ]
    },
    {
      "cell_type": "code",
      "source": [
        "print('학번=', 2277006, '이름=','김솔빈')"
      ],
      "metadata": {
        "colab": {
          "base_uri": "https://localhost:8080/"
        },
        "id": "dB8I2UOYAx95",
        "outputId": "1c2bf36a-27b2-4425-d4e6-528a45934de9"
      },
      "execution_count": null,
      "outputs": [
        {
          "output_type": "stream",
          "name": "stdout",
          "text": [
            "학번= 2277006 이름= 김솔빈\n"
          ]
        }
      ]
    }
  ]
}