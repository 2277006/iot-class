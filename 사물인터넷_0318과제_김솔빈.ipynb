{
  "nbformat": 4,
  "nbformat_minor": 0,
  "metadata": {
    "colab": {
      "provenance": [],
      "authorship_tag": "ABX9TyN1iA8GBAjvjNSwEy6vZ56r",
      "include_colab_link": true
    },
    "kernelspec": {
      "name": "python3",
      "display_name": "Python 3"
    },
    "language_info": {
      "name": "python"
    }
  },
  "cells": [
    {
      "cell_type": "markdown",
      "metadata": {
        "id": "view-in-github",
        "colab_type": "text"
      },
      "source": [
        "<a href=\"https://colab.research.google.com/github/2277006/iot-class/blob/main/%EC%82%AC%EB%AC%BC%EC%9D%B8%ED%84%B0%EB%84%B7_0318%EA%B3%BC%EC%A0%9C_%EA%B9%80%EC%86%94%EB%B9%88.ipynb\" target=\"_parent\"><img src=\"https://colab.research.google.com/assets/colab-badge.svg\" alt=\"Open In Colab\"/></a>"
      ]
    },
    {
      "cell_type": "code",
      "execution_count": 45,
      "metadata": {
        "id": "1diVLL8PeMUI"
      },
      "outputs": [],
      "source": [
        "import requests\n",
        "import ssl\n",
        "from bs4 import BeautifulSoup"
      ]
    },
    {
      "cell_type": "code",
      "source": [
        "url='http://apis.data.go.kr/1480523/MetalMeasuringResultService/MetalService?serviceKey=vVHroaWem2YOSZLJpHxK3wsA%2BOvzd82gljag%2F0DVtvqNmxRm5RCdoaXostNN%2FzkCMCK18hTQzPrIebl8DWlNJg%3D%3D&pageNo=1&numOfRows=10&resultType=XML&date=20171208&stationcode=1&itemcode=90303&timecode=RH02'\n",
        "r = requests.get(url,verify=None)\n",
        "\n",
        "print(r.text)\n",
        "soup = BeautifulSoup(r.text, features=\"xml\")"
      ],
      "metadata": {
        "colab": {
          "base_uri": "https://localhost:8080/"
        },
        "id": "_toXdiyreP-2",
        "outputId": "023ae775-4acc-4f04-b27f-600469ff5478"
      },
      "execution_count": 46,
      "outputs": [
        {
          "output_type": "stream",
          "name": "stdout",
          "text": [
            "<?xml version=\"1.0\" encoding=\"UTF-8\"?>\n",
            "<response>\n",
            "  <header>\n",
            "    <resultCode>00</resultCode>\n",
            "    <resultMsg>NORMAL SERVICE</resultMsg>\n",
            "  </header>\n",
            "  <body>\n",
            "    <items>\n",
            "  <item>\n",
            "    <sdate>20171208000000</sdate>\n",
            "    <stationcode>1</stationcode>\n",
            "    <itemcode>90303</itemcode>\n",
            "    <timecode>RH02</timecode>\n",
            "    <value>24.125</value>\n",
            "  </item>\n",
            "  <item>\n",
            "    <sdate>20171208020000</sdate>\n",
            "    <stationcode>1</stationcode>\n",
            "    <itemcode>90303</itemcode>\n",
            "    <timecode>RH02</timecode>\n",
            "    <value>26.973</value>\n",
            "  </item>\n",
            "  <item>\n",
            "    <sdate>20171208040000</sdate>\n",
            "    <stationcode>1</stationcode>\n",
            "    <itemcode>90303</itemcode>\n",
            "    <timecode>RH02</timecode>\n",
            "    <value>25.986</value>\n",
            "  </item>\n",
            "  <item>\n",
            "    <sdate>20171208060000</sdate>\n",
            "    <stationcode>1</stationcode>\n",
            "    <itemcode>90303</itemcode>\n",
            "    <timecode>RH02</timecode>\n",
            "    <value>23.7435</value>\n",
            "  </item>\n",
            "  <item>\n",
            "    <sdate>20171208080000</sdate>\n",
            "    <stationcode>1</stationcode>\n",
            "    <itemcode>90303</itemcode>\n",
            "    <timecode>RH02</timecode>\n",
            "    <value>22.9215</value>\n",
            "  </item>\n",
            "  <item>\n",
            "    <sdate>20171208100000</sdate>\n",
            "    <stationcode>1</stationcode>\n",
            "    <itemcode>90303</itemcode>\n",
            "    <timecode>RH02</timecode>\n",
            "    <value>21.729</value>\n",
            "  </item>\n",
            "  <item>\n",
            "    <sdate>20171208120000</sdate>\n",
            "    <stationcode>1</stationcode>\n",
            "    <itemcode>90303</itemcode>\n",
            "    <timecode>RH02</timecode>\n",
            "    <value>17.606</value>\n",
            "  </item>\n",
            "  <item>\n",
            "    <sdate>20171208140000</sdate>\n",
            "    <stationcode>1</stationcode>\n",
            "    <itemcode>90303</itemcode>\n",
            "    <timecode>RH02</timecode>\n",
            "    <value>12.102</value>\n",
            "  </item>\n",
            "  <item>\n",
            "    <sdate>20171208160000</sdate>\n",
            "    <stationcode>1</stationcode>\n",
            "    <itemcode>90303</itemcode>\n",
            "    <timecode>RH02</timecode>\n",
            "    <value>10.046</value>\n",
            "  </item>\n",
            "  <item>\n",
            "    <sdate>20171208180000</sdate>\n",
            "    <stationcode>1</stationcode>\n",
            "    <itemcode>90303</itemcode>\n",
            "    <timecode>RH02</timecode>\n",
            "    <value>8.5985</value>\n",
            "  </item>\n",
            "</items>\n",
            "    <numOfRows>10</numOfRows>\n",
            "    <pageNo>1</pageNo>\n",
            "    <totalCount>12</totalCount>\n",
            "  </body>\n",
            "</response>\n",
            "\n"
          ]
        }
      ]
    },
    {
      "cell_type": "code",
      "source": [
        "soup.find_all('sdate')"
      ],
      "metadata": {
        "id": "C4vfETVgeSqI",
        "colab": {
          "base_uri": "https://localhost:8080/"
        },
        "outputId": "85ffaad3-7eab-4f6a-eabf-13f7cb563b31"
      },
      "execution_count": 49,
      "outputs": [
        {
          "output_type": "execute_result",
          "data": {
            "text/plain": [
              "[<sdate>20171208000000</sdate>,\n",
              " <sdate>20171208020000</sdate>,\n",
              " <sdate>20171208040000</sdate>,\n",
              " <sdate>20171208060000</sdate>,\n",
              " <sdate>20171208080000</sdate>,\n",
              " <sdate>20171208100000</sdate>,\n",
              " <sdate>20171208120000</sdate>,\n",
              " <sdate>20171208140000</sdate>,\n",
              " <sdate>20171208160000</sdate>,\n",
              " <sdate>20171208180000</sdate>]"
            ]
          },
          "metadata": {},
          "execution_count": 49
        }
      ]
    },
    {
      "cell_type": "code",
      "source": [
        "print('학번=', 2277006, '이름=','김솔빈')"
      ],
      "metadata": {
        "id": "ZGKOZQUXeVqs",
        "colab": {
          "base_uri": "https://localhost:8080/"
        },
        "outputId": "92bb8356-d1d9-4903-f937-9333003e6615"
      },
      "execution_count": 48,
      "outputs": [
        {
          "output_type": "stream",
          "name": "stdout",
          "text": [
            "학번= 2277006 이름= 김솔빈\n"
          ]
        }
      ]
    },
    {
      "cell_type": "code",
      "source": [],
      "metadata": {
        "id": "k7ObdvxeRz5F"
      },
      "execution_count": null,
      "outputs": []
    }
  ]
}